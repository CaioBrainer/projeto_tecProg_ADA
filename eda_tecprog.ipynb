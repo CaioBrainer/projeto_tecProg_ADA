{
 "cells": [
  {
   "cell_type": "markdown",
   "id": "49c6824d-e572-43b4-bb9d-230ab4901b53",
   "metadata": {},
   "source": [
    "![Texto Alternativo](banco_de_dados_projeto.png)"
   ]
  },
  {
   "cell_type": "markdown",
   "id": "7b4efe70-c057-48b5-b6af-1bac5dff7dd0",
   "metadata": {},
   "source": [
    "Dados de vendas de 2016~2018 da Olist ecommerce"
   ]
  },
  {
   "cell_type": "markdown",
   "id": "1c69ff0a-dd75-4f12-a70b-d40e5dd88ae6",
   "metadata": {},
   "source": [
    "https://www.kaggle.com/datasets/olistbr/brazilian-ecommerce#olist_products_dataset.csv"
   ]
  },
  {
   "cell_type": "code",
   "execution_count": null,
   "id": "db149f31-5e3f-4e2f-9894-bdf8d86d83e0",
   "metadata": {},
   "outputs": [],
   "source": [
    "import pandas as pd"
   ]
  },
  {
   "cell_type": "code",
   "execution_count": null,
   "id": "afa477d7-b957-4768-aa85-183e5d4bc4dc",
   "metadata": {},
   "outputs": [],
   "source": [
    "# Carga inicial dos dados\n",
    "df_order_payments = pd.read_csv(\"olist_order_payments_dataset.csv\")\n",
    "df_order_dataset = pd.read_csv(\"olist_orders_dataset.csv\")\n",
    "df_order_customer = pd.read_csv(\"olist_customers_dataset.csv\")\n",
    "df_order_itens = pd.read_csv(\"olist_order_items_dataset.csv\")\n",
    "df_order_products = pd.read_csv(\"olist_products_dataset.csv\")\n",
    "df_order_sellers = pd.read_csv(\"olist_sellers_dataset.csv\")\n",
    "df_order_geolocation = pd.read_csv(\"olist_geolocation_dataset.csv\")"
   ]
  },
  {
   "cell_type": "code",
   "execution_count": null,
   "id": "b68e35d4-87bc-4ac3-9dd6-3e1572153561",
   "metadata": {},
   "outputs": [],
   "source": [
    "# Merge dos dados\n",
    "df_order_geolocation.rename(columns={'geolocation_zip_code_prefix' : 'zip_code_prefix'}, inplace=True)\n",
    "df_unido = pd.merge(df_order_payments, df_order_dataset, how=\"inner\", on=\"order_id\")\n",
    "df_unido = pd.merge(df_unido, df_order_itens, how=\"inner\", on=\"order_id\")\n",
    "df_unido = pd.merge(df_unido, df_order_customer, how=\"inner\", on=\"customer_id\")\n",
    "df_unido = pd.merge(df_unido, df_order_products, how=\"inner\", on=\"product_id\")\n",
    "df_unido = pd.merge(df_unido, df_order_sellers, how=\"inner\", on=\"seller_id\")"
   ]
  },
  {
   "cell_type": "code",
   "execution_count": null,
   "id": "7985b8a6-65d8-4ea0-ba62-708c9ad9bfa6",
   "metadata": {},
   "outputs": [],
   "source": [
    "df_unido_amostra = df_unido.sample(frac=0.2, random_state=42)\n",
    "df_unido.info()"
   ]
  },
  {
   "cell_type": "code",
   "execution_count": null,
   "id": "0b22cb42-51a5-44d6-a9bf-99f7def083dc",
   "metadata": {},
   "outputs": [],
   "source": [
    "tipo_pagamento = df_unido_amostra.groupby(by='payment_type').size().reset_index().sort_values(by=0,\n",
    "                                                                                              ascending=False)"
   ]
  },
  {
   "cell_type": "code",
   "execution_count": null,
   "id": "a12f5f04-9cd1-4389-9de9-042bb1b1e110",
   "metadata": {},
   "outputs": [],
   "source": [
    "compra_por_estado = df_unido_amostra.groupby(by='customer_state').size().sort_values(ascending=False).reset_index()\n",
    "compra_por_estado.head(10)"
   ]
  },
  {
   "cell_type": "code",
   "execution_count": null,
   "id": "accf2cdd-2c5b-42af-ad17-5ae7c5573b89",
   "metadata": {},
   "outputs": [],
   "source": [
    "compra_por_cidade = df_unido_amostra.groupby(by='customer_city').size().sort_values(ascending=False).reset_index()\n",
    "compra_por_cidade.head(10)"
   ]
  }
 ],
 "metadata": {
  "kernelspec": {
   "display_name": "Python 3 (ipykernel)",
   "language": "python",
   "name": "python3"
  },
  "language_info": {
   "codemirror_mode": {
    "name": "ipython",
    "version": 3
   },
   "file_extension": ".py",
   "mimetype": "text/x-python",
   "name": "python",
   "nbconvert_exporter": "python",
   "pygments_lexer": "ipython3",
   "version": "3.9.18"
  }
 },
 "nbformat": 4,
 "nbformat_minor": 5
}
