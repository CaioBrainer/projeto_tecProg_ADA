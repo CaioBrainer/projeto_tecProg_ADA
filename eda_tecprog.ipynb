{
 "cells": [
  {
   "cell_type": "markdown",
   "id": "49c6824d-e572-43b4-bb9d-230ab4901b53",
   "metadata": {},
   "source": [
    "# Projeto - Grupo 1 - Técnicas de Programação II"
   ]
  },
  {
   "cell_type": "markdown",
   "id": "50cc351e-486b-4949-9021-71aa26eeabde",
   "metadata": {},
   "source": [
    "## Integrantes do Grupo: Caio Brainer, Thaisa Elvas, Alex Amaro, Luana Rodrigues, Lucindo e Henricco"
   ]
  },
  {
   "cell_type": "markdown",
   "id": "1c69ff0a-dd75-4f12-a70b-d40e5dd88ae6",
   "metadata": {},
   "source": [
    "Referências:\n",
    "\n",
    "https://www.kaggle.com/datasets/olistbr/brazilian-ecommerce#olist_products_dataset.csv [Dados de eccomerce 2016-2018 Olist]\n",
    "\n",
    "https://www.kaggle.com/datasets/thiagobodruk/brazil-geojson [Dados JSON do Brasil e seus estados]\n",
    "\n",
    "https://github.com/filipegmedeiros/brazilian_choropleth_map/tree/main/geojson [Dados JSON do Brasil e seus estados]"
   ]
  },
  {
   "cell_type": "code",
   "execution_count": 1,
   "id": "db149f31-5e3f-4e2f-9894-bdf8d86d83e0",
   "metadata": {},
   "outputs": [],
   "source": [
    "import pandas as pd\n",
    "import plotly.express as px\n",
    "import json\n",
    "import plotly.io as pio\n",
    "pio.renderers.default = 'jupyterlab'"
   ]
  },
  {
   "cell_type": "code",
   "execution_count": 2,
   "id": "afa477d7-b957-4768-aa85-183e5d4bc4dc",
   "metadata": {},
   "outputs": [],
   "source": [
    "# Carga inicial dos dados\n",
    "df_order_payments = pd.read_csv(\"dados/olist_order_payments_dataset.csv\")\n",
    "df_order_dataset = pd.read_csv(\"dados/olist_orders_dataset.csv\")\n",
    "df_order_customer = pd.read_csv(\"dados/olist_customers_dataset.csv\")\n",
    "df_order_itens = pd.read_csv(\"dados/olist_order_items_dataset.csv\")\n",
    "df_order_products = pd.read_csv(\"dados/olist_products_dataset.csv\")\n",
    "df_order_sellers = pd.read_csv(\"dados/olist_sellers_dataset.csv\")\n",
    "df_order_geolocation = pd.read_csv(\"dados/olist_geolocation_dataset.csv\")\n",
    "\n",
    "# Geojson\n",
    "geojson = json.load(open(\"geojson/brasil_estados.json\"))"
   ]
  },
  {
   "cell_type": "code",
   "execution_count": 3,
   "id": "b68e35d4-87bc-4ac3-9dd6-3e1572153561",
   "metadata": {},
   "outputs": [],
   "source": [
    "# Merge dos dados\n",
    "df_order_geolocation.rename(columns={'geolocation_zip_code_prefix' : 'zip_code_prefix'}, inplace=True)\n",
    "df_unido = pd.merge(df_order_payments, df_order_dataset, how=\"inner\", on=\"order_id\")\n",
    "df_unido = pd.merge(df_unido, df_order_itens, how=\"inner\", on=\"order_id\")\n",
    "df_unido = pd.merge(df_unido, df_order_customer, how=\"inner\", on=\"customer_id\")\n",
    "df_unido = pd.merge(df_unido, df_order_products, how=\"inner\", on=\"product_id\")\n",
    "df_unido = pd.merge(df_unido, df_order_sellers, how=\"inner\", on=\"seller_id\")\n",
    "df_unido.rename(columns={'customer_zip_code_prefix' : 'zip_code_prefix'}, inplace=True)"
   ]
  },
  {
   "cell_type": "code",
   "execution_count": 4,
   "id": "7985b8a6-65d8-4ea0-ba62-708c9ad9bfa6",
   "metadata": {},
   "outputs": [
    {
     "name": "stderr",
     "output_type": "stream",
     "text": [
      "C:\\Users\\caioc\\anaconda3\\lib\\site-packages\\pyarrow\\pandas_compat.py:373: FutureWarning:\n",
      "\n",
      "is_sparse is deprecated and will be removed in a future version. Check `isinstance(dtype, pd.SparseDtype)` instead.\n",
      "\n"
     ]
    }
   ],
   "source": [
    "df_unido_amostra = df_unido.sample(frac=0.2, random_state=42)\n",
    "df_unido_amostra.dropna(inplace=True)\n",
    "df_unido_amostra.to_parquet(\"dados/amostra.parquet\")"
   ]
  }
 ],
 "metadata": {
  "kernelspec": {
   "display_name": "Python 3 (ipykernel)",
   "language": "python",
   "name": "python3"
  },
  "language_info": {
   "codemirror_mode": {
    "name": "ipython",
    "version": 3
   },
   "file_extension": ".py",
   "mimetype": "text/x-python",
   "name": "python",
   "nbconvert_exporter": "python",
   "pygments_lexer": "ipython3",
   "version": "3.9.18"
  }
 },
 "nbformat": 4,
 "nbformat_minor": 5
}
