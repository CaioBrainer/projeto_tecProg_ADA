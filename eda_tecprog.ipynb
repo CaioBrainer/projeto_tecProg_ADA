{
 "cells": [
  {
   "cell_type": "markdown",
   "id": "49c6824d-e572-43b4-bb9d-230ab4901b53",
   "metadata": {},
   "source": [
    "![Texto Alternativo](banco_de_dados_projeto.png)"
   ]
  },
  {
   "cell_type": "markdown",
   "id": "7b4efe70-c057-48b5-b6af-1bac5dff7dd0",
   "metadata": {},
   "source": [
    "Dados de vendas de 2016~2018 da Olist ecommerce"
   ]
  },
  {
   "cell_type": "markdown",
   "id": "1c69ff0a-dd75-4f12-a70b-d40e5dd88ae6",
   "metadata": {},
   "source": [
    "https://www.kaggle.com/datasets/olistbr/brazilian-ecommerce#olist_products_dataset.csv\n",
    "\n",
    "https://www.kaggle.com/datasets/thiagobodruk/brazil-geojson\n",
    "\n",
    "https://github.com/filipegmedeiros/brazilian_choropleth_map/tree/main/geojson"
   ]
  },
  {
   "cell_type": "code",
   "execution_count": 1,
   "id": "db149f31-5e3f-4e2f-9894-bdf8d86d83e0",
   "metadata": {},
   "outputs": [],
   "source": [
    "import pandas as pd\n",
    "import plotly.express as px\n",
    "import json\n",
    "import plotly.io as pio\n",
    "pio.renderers.default = 'jupyterlab'"
   ]
  },
  {
   "cell_type": "code",
   "execution_count": 2,
   "id": "afa477d7-b957-4768-aa85-183e5d4bc4dc",
   "metadata": {},
   "outputs": [],
   "source": [
    "# Carga inicial dos dados\n",
    "df_order_payments = pd.read_csv(\"dados/olist_order_payments_dataset.csv\")\n",
    "df_order_dataset = pd.read_csv(\"dados/olist_orders_dataset.csv\")\n",
    "df_order_customer = pd.read_csv(\"dados/olist_customers_dataset.csv\")\n",
    "df_order_itens = pd.read_csv(\"dados/olist_order_items_dataset.csv\")\n",
    "df_order_products = pd.read_csv(\"dados/olist_products_dataset.csv\")\n",
    "df_order_sellers = pd.read_csv(\"dados/olist_sellers_dataset.csv\")\n",
    "df_order_geolocation = pd.read_csv(\"dados/olist_geolocation_dataset.csv\")\n",
    "\n",
    "# Geojson\n",
    "geojson = json.load(open(\"geojson/brasil_estados.json\"))"
   ]
  },
  {
   "cell_type": "code",
   "execution_count": 3,
   "id": "b68e35d4-87bc-4ac3-9dd6-3e1572153561",
   "metadata": {},
   "outputs": [],
   "source": [
    "# Merge dos dados\n",
    "df_order_geolocation.rename(columns={'geolocation_zip_code_prefix' : 'zip_code_prefix'}, inplace=True)\n",
    "df_unido = pd.merge(df_order_payments, df_order_dataset, how=\"inner\", on=\"order_id\")\n",
    "df_unido = pd.merge(df_unido, df_order_itens, how=\"inner\", on=\"order_id\")\n",
    "df_unido = pd.merge(df_unido, df_order_customer, how=\"inner\", on=\"customer_id\")\n",
    "df_unido = pd.merge(df_unido, df_order_products, how=\"inner\", on=\"product_id\")\n",
    "df_unido = pd.merge(df_unido, df_order_sellers, how=\"inner\", on=\"seller_id\")\n",
    "df_unido.rename(columns={'customer_zip_code_prefix' : 'zip_code_prefix'}, inplace=True)"
   ]
  },
  {
   "cell_type": "code",
   "execution_count": 120,
   "id": "7985b8a6-65d8-4ea0-ba62-708c9ad9bfa6",
   "metadata": {},
   "outputs": [],
   "source": [
    "df_unido_amostra = df_unido.sample(frac=0.2, random_state=42)\n",
    "df_unido_amostra.dropna(inplace=True)\n",
    "#df_unido_amostra.to_csv(\"dados/amostra.csv\")"
   ]
  },
  {
   "cell_type": "code",
   "execution_count": null,
   "id": "535b8a99-4144-4c47-b93e-e67de2fb774b",
   "metadata": {},
   "outputs": [],
   "source": [
    "maiusc = lambda x: x.title()\n",
    "df_unido_amostra['seller_city'] = df_unido_amostra['seller_city'].apply(maiusc)\n",
    "df_unido_amostra['seller_city'].head()"
   ]
  },
  {
   "cell_type": "code",
   "execution_count": null,
   "id": "0b22cb42-51a5-44d6-a9bf-99f7def083dc",
   "metadata": {},
   "outputs": [],
   "source": [
    "tipo_pagamento = df_unido_amostra.groupby(by='payment_type').size().reset_index().sort_values(by=0, ascending=False)\n",
    "tipo_pagamento = tipo_pagamento.rename(columns={'payment_type': 'forma de pagamento', 0: 'quantidade',})\n",
    "\n",
    "#mapeamento = {'credit_card': 'crédito', 'debit_card': 'débito', 'voucher':'voucher', 'boleto':'boleto'}\n",
    "#tipo_pagamento['forma de pagamento'] = tipo_pagamento['forma de pagamento'].map(mapeamento)\n",
    "tipo_pagamento.head()"
   ]
  },
  {
   "cell_type": "code",
   "execution_count": null,
   "id": "fdc1bc65-37a0-45e4-b278-23f91d70f766",
   "metadata": {},
   "outputs": [],
   "source": [
    "df_unido.columns"
   ]
  },
  {
   "cell_type": "code",
   "execution_count": null,
   "id": "113d408d-655c-4554-9505-ff92e76ebaed",
   "metadata": {},
   "outputs": [],
   "source": [
    "print(df_unido_amostra['payment_installments'].max())\n",
    "print(df_unido_amostra['payment_installments'].min())\n",
    "print(df_unido_amostra['payment_installments'].mean().round())"
   ]
  },
  {
   "cell_type": "code",
   "execution_count": null,
   "id": "85190c16-6d56-4f8f-b5ff-90849b4afb89",
   "metadata": {},
   "outputs": [],
   "source": [
    "df_unido_amostra.groupby('product_category_name').size().reset_index().sort_values(by=0, ascending=False).head(10)"
   ]
  },
  {
   "cell_type": "code",
   "execution_count": null,
   "id": "a12f5f04-9cd1-4389-9de9-042bb1b1e110",
   "metadata": {},
   "outputs": [],
   "source": [
    "compra_por_estado = df_unido_amostra.groupby(by='customer_state').size().sort_values(ascending=False).reset_index()"
   ]
  },
  {
   "cell_type": "code",
   "execution_count": null,
   "id": "ac7eb255-2c65-49fc-884b-6e01da8d8864",
   "metadata": {},
   "outputs": [],
   "source": [
    "# location tem que fazer correlação com a coluna ID do geojson\n",
    "fig = px.choropleth(compra_por_estado, geojson=geojson, locations='customer_state', color=0, scope=\"south america\")\n",
    "fig.update_geos(fitbounds = \"locations\", visible = False)\n",
    "fig.update_layout(width=800, height=800,dragmode=False,paper_bgcolor=\"white\")\n",
    "fig.show()"
   ]
  },
  {
   "cell_type": "code",
   "execution_count": null,
   "id": "accf2cdd-2c5b-42af-ad17-5ae7c5573b89",
   "metadata": {},
   "outputs": [],
   "source": [
    "compra_por_cidade = df_unido_amostra.groupby(by='customer_city').size().sort_values(ascending=False).reset_index()"
   ]
  },
  {
   "cell_type": "code",
   "execution_count": 132,
   "id": "64b3505a-141c-4ef1-aaad-7a02bed74f00",
   "metadata": {},
   "outputs": [
    {
     "data": {
      "text/plain": [
       "Index(['order_id', 'payment_sequential', 'payment_type',\n",
       "       'payment_installments', 'payment_value', 'customer_id', 'order_status',\n",
       "       'order_purchase_timestamp', 'order_approved_at',\n",
       "       'order_delivered_carrier_date', 'order_delivered_customer_date',\n",
       "       'order_estimated_delivery_date', 'order_item_id', 'product_id',\n",
       "       'seller_id', 'shipping_limit_date', 'price', 'freight_value',\n",
       "       'customer_unique_id', 'zip_code_prefix', 'customer_city',\n",
       "       'customer_state', 'product_category_name', 'product_name_lenght',\n",
       "       'product_description_lenght', 'product_photos_qty', 'product_weight_g',\n",
       "       'product_length_cm', 'product_height_cm', 'product_width_cm',\n",
       "       'seller_zip_code_prefix', 'seller_city', 'seller_state',\n",
       "       'tempo de entrega', 'tempo estimado'],\n",
       "      dtype='object')"
      ]
     },
     "execution_count": 132,
     "metadata": {},
     "output_type": "execute_result"
    }
   ],
   "source": [
    "df_unido_amostra.columns"
   ]
  },
  {
   "cell_type": "code",
   "execution_count": 134,
   "id": "43e6be9a-4be5-4d2b-903f-baf79e30fb40",
   "metadata": {},
   "outputs": [
    {
     "data": {
      "text/html": [
       "<div>\n",
       "<style scoped>\n",
       "    .dataframe tbody tr th:only-of-type {\n",
       "        vertical-align: middle;\n",
       "    }\n",
       "\n",
       "    .dataframe tbody tr th {\n",
       "        vertical-align: top;\n",
       "    }\n",
       "\n",
       "    .dataframe thead th {\n",
       "        text-align: right;\n",
       "    }\n",
       "</style>\n",
       "<table border=\"1\" class=\"dataframe\">\n",
       "  <thead>\n",
       "    <tr style=\"text-align: right;\">\n",
       "      <th></th>\n",
       "      <th>order_approved_at</th>\n",
       "      <th>order_delivered_carrier_date</th>\n",
       "    </tr>\n",
       "  </thead>\n",
       "  <tbody>\n",
       "    <tr>\n",
       "      <th>49672</th>\n",
       "      <td>2018-07-01</td>\n",
       "      <td>2018-07-02 16:24:00</td>\n",
       "    </tr>\n",
       "    <tr>\n",
       "      <th>23948</th>\n",
       "      <td>2017-12-06</td>\n",
       "      <td>2017-12-11 16:13:09</td>\n",
       "    </tr>\n",
       "    <tr>\n",
       "      <th>105553</th>\n",
       "      <td>2018-04-17</td>\n",
       "      <td>2018-04-17 20:24:35</td>\n",
       "    </tr>\n",
       "    <tr>\n",
       "      <th>68942</th>\n",
       "      <td>2017-05-17</td>\n",
       "      <td>2017-05-18 10:35:23</td>\n",
       "    </tr>\n",
       "    <tr>\n",
       "      <th>80847</th>\n",
       "      <td>2017-08-16</td>\n",
       "      <td>2017-08-18 19:22:18</td>\n",
       "    </tr>\n",
       "  </tbody>\n",
       "</table>\n",
       "</div>"
      ],
      "text/plain": [
       "       order_approved_at order_delivered_carrier_date\n",
       "49672         2018-07-01          2018-07-02 16:24:00\n",
       "23948         2017-12-06          2017-12-11 16:13:09\n",
       "105553        2018-04-17          2018-04-17 20:24:35\n",
       "68942         2017-05-17          2017-05-18 10:35:23\n",
       "80847         2017-08-16          2017-08-18 19:22:18"
      ]
     },
     "execution_count": 134,
     "metadata": {},
     "output_type": "execute_result"
    }
   ],
   "source": [
    "df_unido_amostra[['order_approved_at', 'order_delivered_carrier_date']].head()"
   ]
  },
  {
   "cell_type": "code",
   "execution_count": 131,
   "id": "f3866217-be6a-41ae-8690-a55cb030eac7",
   "metadata": {},
   "outputs": [
    {
     "data": {
      "text/html": [
       "<div>\n",
       "<style scoped>\n",
       "    .dataframe tbody tr th:only-of-type {\n",
       "        vertical-align: middle;\n",
       "    }\n",
       "\n",
       "    .dataframe tbody tr th {\n",
       "        vertical-align: top;\n",
       "    }\n",
       "\n",
       "    .dataframe thead th {\n",
       "        text-align: right;\n",
       "    }\n",
       "</style>\n",
       "<table border=\"1\" class=\"dataframe\">\n",
       "  <thead>\n",
       "    <tr style=\"text-align: right;\">\n",
       "      <th></th>\n",
       "      <th>tempo de entrega</th>\n",
       "      <th>tempo estimado</th>\n",
       "    </tr>\n",
       "  </thead>\n",
       "  <tbody>\n",
       "    <tr>\n",
       "      <th>49672</th>\n",
       "      <td>25</td>\n",
       "      <td>30</td>\n",
       "    </tr>\n",
       "    <tr>\n",
       "      <th>23948</th>\n",
       "      <td>22</td>\n",
       "      <td>29</td>\n",
       "    </tr>\n",
       "    <tr>\n",
       "      <th>105553</th>\n",
       "      <td>9</td>\n",
       "      <td>27</td>\n",
       "    </tr>\n",
       "    <tr>\n",
       "      <th>68942</th>\n",
       "      <td>2</td>\n",
       "      <td>13</td>\n",
       "    </tr>\n",
       "    <tr>\n",
       "      <th>80847</th>\n",
       "      <td>13</td>\n",
       "      <td>28</td>\n",
       "    </tr>\n",
       "    <tr>\n",
       "      <th>...</th>\n",
       "      <td>...</td>\n",
       "      <td>...</td>\n",
       "    </tr>\n",
       "    <tr>\n",
       "      <th>15085</th>\n",
       "      <td>16</td>\n",
       "      <td>27</td>\n",
       "    </tr>\n",
       "    <tr>\n",
       "      <th>16613</th>\n",
       "      <td>15</td>\n",
       "      <td>29</td>\n",
       "    </tr>\n",
       "    <tr>\n",
       "      <th>73988</th>\n",
       "      <td>19</td>\n",
       "      <td>12</td>\n",
       "    </tr>\n",
       "    <tr>\n",
       "      <th>38142</th>\n",
       "      <td>27</td>\n",
       "      <td>28</td>\n",
       "    </tr>\n",
       "    <tr>\n",
       "      <th>44098</th>\n",
       "      <td>7</td>\n",
       "      <td>14</td>\n",
       "    </tr>\n",
       "  </tbody>\n",
       "</table>\n",
       "<p>22668 rows × 2 columns</p>\n",
       "</div>"
      ],
      "text/plain": [
       "        tempo de entrega  tempo estimado\n",
       "49672                 25              30\n",
       "23948                 22              29\n",
       "105553                 9              27\n",
       "68942                  2              13\n",
       "80847                 13              28\n",
       "...                  ...             ...\n",
       "15085                 16              27\n",
       "16613                 15              29\n",
       "73988                 19              12\n",
       "38142                 27              28\n",
       "44098                  7              14\n",
       "\n",
       "[22668 rows x 2 columns]"
      ]
     },
     "execution_count": 131,
     "metadata": {},
     "output_type": "execute_result"
    }
   ],
   "source": [
    "# Thaysa\n",
    "# Tempo de entrega\n",
    "# Talvez tenha que usar a order carrier date...\n",
    "df_unido_amostra['order_approved_at'] = pd.to_datetime(df_unido_amostra['order_approved_at']).dt.date\n",
    "df_unido_amostra['order_delivered_customer_date'] = pd.to_datetime(df_unido_amostra['order_delivered_customer_date']).dt.date\n",
    "df_unido_amostra['order_estimated_delivery_date'] = pd.to_datetime(df_unido_amostra['order_estimated_delivery_date']).dt.date\n",
    "\n",
    "df_unido_amostra['tempo de entrega'] = (pd.to_timedelta(df_unido_amostra['order_delivered_customer_date'] - \n",
    "                                                       df_unido_amostra['order_approved_at']).dt.days).astype(int)\n",
    "\n",
    "df_unido_amostra['tempo estimado'] = (pd.to_timedelta(df_unido_amostra['order_estimated_delivery_date'] - \n",
    "                                                     df_unido_amostra['order_approved_at']).dt.days).astype(int)\n",
    "\n",
    "\n",
    "tempo_de_entrega = df_unido_amostra[['tempo de entrega', 'tempo estimado']]\n",
    "tempo_de_entrega[tempo_de_entrega['tempo de entrega'] > 0]"
   ]
  },
  {
   "cell_type": "code",
   "execution_count": null,
   "id": "011a0e9d-d286-475b-96dd-d53e621ae567",
   "metadata": {},
   "outputs": [],
   "source": [
    "# Luana\n",
    "# Estados com mais clientes\n",
    "clientes_por_estado = df_unido_amostra.groupby('customer_state')['customer_id'].nunique().sort_values(ascending=False).reset_index()\n",
    "\n",
    "# Valor médio do frete por estado\n",
    "media_frete_por_estado = df_unido_amostra.groupby('customer_state')['freight_value'].mean().sort_values(ascending=False).reset_index()\n",
    "\n",
    "# Estados com mais vendedores\n",
    "vendedores_por_estado = df_unido_amostra.groupby('seller_state')['seller_id'].nunique().sort_values(ascending=False).reset_index()\n",
    "\n",
    "# Unindo os dataframes\n",
    "merged_df = clientes_por_estado.merge(media_frete_por_estado, on='customer_state')\n",
    "merged_df = merged_df.merge(vendedores_por_estado, how='outer', left_on='customer_state', right_on='seller_state')\n",
    "merged_df.rename(columns={'customer_id': 'num_clientes', 'freight_value': 'valor_medio_frete', 'seller_id': 'num_vendedores'}, inplace=True)\n",
    "merged_df = merged_df.sort_values(by='num_clientes', ascending=False)"
   ]
  }
 ],
 "metadata": {
  "kernelspec": {
   "display_name": "Python 3 (ipykernel)",
   "language": "python",
   "name": "python3"
  },
  "language_info": {
   "codemirror_mode": {
    "name": "ipython",
    "version": 3
   },
   "file_extension": ".py",
   "mimetype": "text/x-python",
   "name": "python",
   "nbconvert_exporter": "python",
   "pygments_lexer": "ipython3",
   "version": "3.9.18"
  }
 },
 "nbformat": 4,
 "nbformat_minor": 5
}
