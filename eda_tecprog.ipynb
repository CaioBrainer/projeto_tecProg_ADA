{
 "cells": [
  {
   "cell_type": "markdown",
   "id": "49c6824d-e572-43b4-bb9d-230ab4901b53",
   "metadata": {},
   "source": [
    "# Projeto - Grupo 1 - Técnicas de Programação II"
   ]
  },
  {
   "cell_type": "markdown",
   "id": "50cc351e-486b-4949-9021-71aa26eeabde",
   "metadata": {},
   "source": [
    "## Integrantes do Grupo: Caio Brainer, Thaisa Elvas, Alex Amaro, Luana Rodrigues, Lucindo e Henricco"
   ]
  },
  {
   "cell_type": "markdown",
   "id": "1c69ff0a-dd75-4f12-a70b-d40e5dd88ae6",
   "metadata": {},
   "source": [
    "Referências:\n",
    "\n",
    "https://www.kaggle.com/datasets/olistbr/brazilian-ecommerce#olist_products_dataset.csv [Dados de eccomerce 2016-2018 Olist]\n",
    "\n",
    "https://www.kaggle.com/datasets/thiagobodruk/brazil-geojson [Dados JSON do Brasil e seus estados]\n",
    "\n",
    "https://github.com/filipegmedeiros/brazilian_choropleth_map/tree/main/geojson [Dados JSON do Brasil e seus estados]"
   ]
  },
  {
   "cell_type": "code",
   "execution_count": null,
   "id": "db149f31-5e3f-4e2f-9894-bdf8d86d83e0",
   "metadata": {},
   "outputs": [],
   "source": [
    "import pandas as pd\n",
    "import plotly.express as px\n",
    "import json\n",
    "import plotly.io as pio\n",
    "pio.renderers.default = 'jupyterlab'"
   ]
  },
  {
   "cell_type": "code",
   "execution_count": null,
   "id": "afa477d7-b957-4768-aa85-183e5d4bc4dc",
   "metadata": {},
   "outputs": [],
   "source": [
    "# Carga inicial dos dados\n",
    "df_order_payments = pd.read_csv(\"dados/olist_order_payments_dataset.csv\")\n",
    "df_order_dataset = pd.read_csv(\"dados/olist_orders_dataset.csv\")\n",
    "df_order_customer = pd.read_csv(\"dados/olist_customers_dataset.csv\")\n",
    "df_order_itens = pd.read_csv(\"dados/olist_order_items_dataset.csv\")\n",
    "df_order_products = pd.read_csv(\"dados/olist_products_dataset.csv\")\n",
    "df_order_sellers = pd.read_csv(\"dados/olist_sellers_dataset.csv\")\n",
    "df_order_geolocation = pd.read_csv(\"dados/olist_geolocation_dataset.csv\")\n",
    "\n",
    "# Geojson\n",
    "geojson = json.load(open(\"geojson/brasil_estados.json\"))"
   ]
  },
  {
   "cell_type": "code",
   "execution_count": null,
   "id": "b68e35d4-87bc-4ac3-9dd6-3e1572153561",
   "metadata": {},
   "outputs": [],
   "source": [
    "# Merge dos dados\n",
    "df_order_geolocation.rename(columns={'geolocation_zip_code_prefix' : 'zip_code_prefix'}, inplace=True)\n",
    "df_unido = pd.merge(df_order_payments, df_order_dataset, how=\"inner\", on=\"order_id\")\n",
    "df_unido = pd.merge(df_unido, df_order_itens, how=\"inner\", on=\"order_id\")\n",
    "df_unido = pd.merge(df_unido, df_order_customer, how=\"inner\", on=\"customer_id\")\n",
    "df_unido = pd.merge(df_unido, df_order_products, how=\"inner\", on=\"product_id\")\n",
    "df_unido = pd.merge(df_unido, df_order_sellers, how=\"inner\", on=\"seller_id\")\n",
    "df_unido.rename(columns={'customer_zip_code_prefix' : 'zip_code_prefix'}, inplace=True)"
   ]
  },
  {
   "cell_type": "code",
   "execution_count": null,
   "id": "7985b8a6-65d8-4ea0-ba62-708c9ad9bfa6",
   "metadata": {},
   "outputs": [],
   "source": [
    "df_unido_amostra = df_unido.sample(frac=0.2, random_state=42)\n",
    "df_unido_amostra.dropna(inplace=True)\n",
    "#df_unido_amostra.to_parquet(\"dados/amostra.parquet\")"
   ]
  },
  {
   "cell_type": "markdown",
   "id": "21ff6eae-1d87-4045-bcf1-b400d3d60bdd",
   "metadata": {},
   "source": [
    "## Código Luana"
   ]
  },
  {
   "cell_type": "code",
   "execution_count": null,
   "id": "efd3e1f4-29eb-451d-a52b-50b5498174a7",
   "metadata": {},
   "outputs": [],
   "source": [
    "# Código da Luana\n",
    "clientes_por_estado = df_unido_amostra.groupby('customer_state')['customer_id'].nunique().sort_values(\n",
    "    ascending=False).reset_index()\n",
    "media_frete_por_estado = df_unido_amostra.groupby('customer_state')['freight_value'].mean().sort_values(\n",
    "    ascending=False).reset_index()\n",
    "vendedores_por_estado = df_unido_amostra.groupby('seller_state')['seller_id'].nunique().sort_values(\n",
    "    ascending=False).reset_index()\n",
    "\n",
    "merged_df = clientes_por_estado.merge(media_frete_por_estado, on='customer_state')\n",
    "merged_df.rename(columns={'customer_id': 'clientes_unicos', 'freight_value': 'valor_medio_frete', 'seller_id': 'num_vendedores'}, inplace=True)\n",
    "merged_df = merged_df.merge(vendedores_por_estado, \n",
    "                            how='outer', left_on='customer_state', \n",
    "                            right_on='seller_state').sort_values(by='clientes_unicos', ascending=False)\n",
    "\n",
    "merged_df.rename(columns={'customer_id': 'clientes_unicos', 'freight_value': 'valor_medio_frete', 'seller_id': 'num_vendedores'}, inplace=True)\n",
    "merged_df = merged_df.sort_values(by='clientes_unicos', ascending=False)"
   ]
  },
  {
   "cell_type": "markdown",
   "id": "9ebb6372-21cb-48c7-afc8-cf1400a9c69a",
   "metadata": {},
   "source": [
    "## Código da Thaisa"
   ]
  },
  {
   "cell_type": "code",
   "execution_count": null,
   "id": "f33ce2cc-8e84-4567-8403-4d7e7c3b4332",
   "metadata": {},
   "outputs": [],
   "source": [
    "# Código da Thaisa\n",
    "df_unido_amostra['order_approved_at'] = pd.to_datetime(df_unido_amostra['order_approved_at']).dt.date\n",
    "df_unido_amostra['order_delivered_customer_date'] = pd.to_datetime(df_unido_amostra['order_delivered_customer_date']).dt.date\n",
    "df_unido_amostra['order_estimated_delivery_date'] = pd.to_datetime(df_unido_amostra['order_estimated_delivery_date']).dt.date\n",
    "\n",
    "df_unido_amostra['tempo_de_entrega'] = (pd.to_timedelta(df_unido_amostra['order_delivered_customer_date'] -\n",
    "                                                       df_unido_amostra['order_approved_at']).dt.days).astype(int)\n",
    "\n",
    "df_unido_amostra['tempo_estimado'] = (pd.to_timedelta(df_unido_amostra['order_estimated_delivery_date'] -\n",
    "                                                     df_unido_amostra['order_approved_at']).dt.days).astype(int)\n",
    "\n",
    "\n",
    "tempo_de_entrega = df_unido_amostra[['customer_state', 'tempo_de_entrega', 'tempo_estimado']]\n",
    "tempo_de_entrega['dias'] = df_unido_amostra['tempo_de_entrega'] - df_unido_amostra['tempo_estimado']\n",
    "df_atrasados = tempo_de_entrega[tempo_de_entrega['dias'] > 0].groupby('customer_state').size().reset_index().sort_values(by='customer_state')\n",
    "\n",
    "# Tabelas temporárias para análise e gráfico de barras com os estados que apresentam maior proporção de atrasos \n",
    "df_qtd = tempo_de_entrega.groupby('customer_state').size().reset_index().sort_values(by='customer_state')\n",
    "df_unido = pd.merge(df_qtd, df_atrasados, how='inner', on='customer_state')\n",
    "df_unido['prop'] = df_unido['0_y'] / df_unido['0_x']\n",
    "df_unido.sort_values(by='prop', ascending=False)\n",
    "\n",
    "px.bar(df_unido.sort_values(by='prop', ascending=False).head(), x='customer_state', y='prop')"
   ]
  },
  {
   "cell_type": "code",
   "execution_count": null,
   "id": "8423523f-c512-4bf6-b652-7ddcd26b88bd",
   "metadata": {},
   "outputs": [],
   "source": [
    "# Tratamento para o boxplot com a distribuição de dias de atraso nos estados com maiores proporções de atraso\n",
    "filtro_estados = (tempo_de_entrega['dias'] > 0) & (tempo_de_entrega['customer_state'].isin(['MA', 'TO', 'AL', 'SE', 'PI']))\n",
    "df_atrasos = tempo_de_entrega[filtro_estados]\n",
    "fig = px.box(df_atrasos, x=\"customer_state\", y=\"dias\")\n",
    "fig.show()"
   ]
  },
  {
   "cell_type": "markdown",
   "id": "a69cdb86-9725-4e71-a62d-28544c939b66",
   "metadata": {},
   "source": [
    "## Código Lucindo"
   ]
  },
  {
   "cell_type": "code",
   "execution_count": null,
   "id": "b9f6ed82-193f-4869-a806-94cea0fc25c8",
   "metadata": {},
   "outputs": [],
   "source": [
    "## Média de vendas para o Dias das Mães de 2017 (por dia)\n",
    "\n",
    "# Suponha que você tenha um DataFrame df com as colunas 'order_purchase_timestamp' e 'price'\n",
    "# Converta a coluna 'order_purchase_timestamp' para o tipo datetime\n",
    "df_unido_amostra['order_purchase_timestamp'] = pd.to_datetime(df_unido_amostra['order_purchase_timestamp'])\n",
    "\n",
    "# Defina a data alvo e o período de 10 dias anteriores\n",
    "data_alvo = pd.to_datetime('2017-05-14')\n",
    "data_inicial = data_alvo - pd.Timedelta(days=10)\n",
    "\n",
    "# Filtrar as linhas correspondentes ao período de 10 dias anteriores à data alvo\n",
    "df_filtrado = df_unido_amostra[(df_unido_amostra['order_purchase_timestamp'] >= data_inicial) & (df_unido_amostra['order_purchase_timestamp'] <= data_alvo)]\n",
    "\n",
    "# Agrupar vendas pela coluna 'order_purchase_timestamp' e calcular o valor médio na coluna 'price'\n",
    "vendas_agrupadas17 = df_filtrado.groupby(df_filtrado['order_purchase_timestamp'].dt.date)['price'].mean()\n",
    "\n",
    "## Média de vendas para o Dias das Mães de 2018 (por dia)\n",
    "\n",
    "# Converta a coluna 'order_purchase_timestamp' para o tipo datetime\n",
    "df_unido_amostra['order_purchase_timestamp'] = pd.to_datetime(df_unido_amostra['order_purchase_timestamp'])\n",
    "\n",
    "# Defina a data alvo e o período de 10 dias anteriores\n",
    "data_alvo = pd.to_datetime('2018-05-13')\n",
    "data_inicial = data_alvo - pd.Timedelta(days=10)\n",
    "\n",
    "# Filtrar as linhas correspondentes ao período de 10 dias anteriores à data alvo\n",
    "df_filtrado = df_unido_amostra[(df_unido_amostra['order_purchase_timestamp'] >= data_inicial) & (df_unido_amostra['order_purchase_timestamp'] <= data_alvo)]\n",
    "\n",
    "# Agrupar vendas pela coluna 'order_purchase_timestamp' e calcular o valor médio na coluna 'price'\n",
    "vendas_agrupadas18 = df_filtrado.groupby(df_filtrado['order_purchase_timestamp'].dt.date)['price'].mean()\n"
   ]
  },
  {
   "cell_type": "code",
   "execution_count": null,
   "id": "d59cad13-a92e-461c-a763-e8b0fa2c3181",
   "metadata": {},
   "outputs": [],
   "source": [
    "dias = pd.to_datetime(vendas_agrupadas18.reset_index()['order_purchase_timestamp'])\n",
    "dias.dt.day"
   ]
  }
 ],
 "metadata": {
  "kernelspec": {
   "display_name": "Python 3 (ipykernel)",
   "language": "python",
   "name": "python3"
  },
  "language_info": {
   "codemirror_mode": {
    "name": "ipython",
    "version": 3
   },
   "file_extension": ".py",
   "mimetype": "text/x-python",
   "name": "python",
   "nbconvert_exporter": "python",
   "pygments_lexer": "ipython3",
   "version": "3.9.18"
  }
 },
 "nbformat": 4,
 "nbformat_minor": 5
}
